{
  "nbformat": 4,
  "nbformat_minor": 0,
  "metadata": {
    "kernelspec": {
      "display_name": "Python 3",
      "language": "python",
      "name": "python3"
    },
    "language_info": {
      "codemirror_mode": {
        "name": "ipython",
        "version": 3
      },
      "file_extension": ".py",
      "mimetype": "text/x-python",
      "name": "python",
      "nbconvert_exporter": "python",
      "pygments_lexer": "ipython3",
      "version": "3.7.6"
    },
    "colab": {
      "name": "hierarchical-clustering.ipynb",
      "provenance": []
    }
  },
  "cells": [
    {
      "cell_type": "markdown",
      "metadata": {
        "id": "ZS0dNJTnf-8M"
      },
      "source": [
        "\n",
        "\n",
        "# Hierarchical Clustering - Agglomerative Clustering\n",
        "Agglomerative Clustering is also known as `Bottom-Up` approach\n",
        "\n"
      ]
    },
    {
      "cell_type": "markdown",
      "metadata": {
        "id": "xWH3s-cnmucr"
      },
      "source": [
        "> ## Import Required Libraries"
      ]
    },
    {
      "cell_type": "code",
      "metadata": {
        "id": "XuvrFyyMgRmE"
      },
      "source": [
        "import numpy as np\n",
        "from sklearn.cluster import MeanShift \n",
        "from sklearn.datasets.samples_generator import make_blobs\n",
        "import matplotlib.pyplot as plt"
      ],
      "execution_count": 8,
      "outputs": []
    },
    {
      "cell_type": "code",
      "metadata": {
        "id": "_yHcHN6Tm5Jd"
      },
      "source": [
        "centers = [[1, 1], [5, 5]]"
      ],
      "execution_count": 4,
      "outputs": []
    },
    {
      "cell_type": "code",
      "metadata": {
        "id": "mGslTMu9nI4F"
      },
      "source": [
        "X, _ = make_blobs(n_samples=200, centers=centers, cluster_std=1)"
      ],
      "execution_count": 5,
      "outputs": []
    },
    {
      "cell_type": "code",
      "metadata": {
        "colab": {
          "base_uri": "https://localhost:8080/",
          "height": 281
        },
        "id": "pIxpbATqnn6T",
        "outputId": "6b8eac08-2dcb-4cdf-d8f3-dca5172118e5"
      },
      "source": [
        "plt.scatter(X[:, 0], X[:, 1])\n",
        "plt.show"
      ],
      "execution_count": 6,
      "outputs": [
        {
          "output_type": "execute_result",
          "data": {
            "text/plain": [
              "<function matplotlib.pyplot.show>"
            ]
          },
          "metadata": {
            "tags": []
          },
          "execution_count": 6
        },
        {
          "output_type": "display_data",
          "data": {
            "image/png": "[encoded data removed]",
            "text/plain": [
              "<Figure size 432x288 with 1 Axes>"
            ]
          },
          "metadata": {
            "tags": [],
            "needs_background": "light"
          }
        }
      ]
    },
    {
      "cell_type": "code",
      "metadata": {
        "colab": {
          "base_uri": "https://localhost:8080/",
          "height": 415
        },
        "id": "beCPGzGYnxgp",
        "outputId": "07ba4886-6cac-40e1-b1b1-960b016be3bb"
      },
      "source": [
        "ms = MeanShift()\n",
        "ms.fit(X)\n",
        "labels = ms.labels_\n",
        "cluster_centers = ms.cluster_centers_\n",
        "\n",
        "n_clusters = len(np.unique(labels))\n",
        "print('No.of estimated clusters: ', n_clusters)\n",
        "colors = 10 * ['r.', 'g.', 'b.', 'c.', 'k.', 'y.', 'm.']\n",
        "\n",
        "print(colors)\n",
        "print(labels)\n",
        "\n",
        "for i in range(len(X)):\n",
        "    plt.plot(X[i][0], X[i][1], colors[labels[i]], markersize=10)\n",
        "\n",
        "plt.scatter(cluster_centers[:, 0], cluster_centers[:, 1], marker='x', s=150, linewidths=5, zorder=10)\n",
        "plt.show();"
      ],
      "execution_count": 13,
      "outputs": [
        {
          "output_type": "stream",
          "text": [
            "No.of estimated clusters:  2\n",
            "['r.', 'g.', 'b.', 'c.', 'k.', 'y.', 'm.', 'r.', 'g.', 'b.', 'c.', 'k.', 'y.', 'm.', 'r.', 'g.', 'b.', 'c.', 'k.', 'y.', 'm.', 'r.', 'g.', 'b.', 'c.', 'k.', 'y.', 'm.', 'r.', 'g.', 'b.', 'c.', 'k.', 'y.', 'm.', 'r.', 'g.', 'b.', 'c.', 'k.', 'y.', 'm.', 'r.', 'g.', 'b.', 'c.', 'k.', 'y.', 'm.', 'r.', 'g.', 'b.', 'c.', 'k.', 'y.', 'm.', 'r.', 'g.', 'b.', 'c.', 'k.', 'y.', 'm.', 'r.', 'g.', 'b.', 'c.', 'k.', 'y.', 'm.']\n",
            "[0 0 1 1 0 1 1 1 1 0 1 0 1 1 0 0 1 1 0 1 0 0 0 1 0 1 1 0 0 0 1 0 0 0 1 1 0\n",
            " 0 1 1 1 1 0 0 1 0 0 0 1 0 1 0 1 0 0 1 1 1 1 0 0 0 0 0 0 0 0 1 0 1 0 1 0 0\n",
            " 0 0 1 1 0 0 0 0 0 1 1 0 0 1 1 0 0 1 1 1 0 1 1 1 0 0 1 0 0 0 1 1 1 0 0 1 0\n",
            " 1 1 1 1 0 1 0 1 0 0 0 0 0 1 1 0 0 1 0 0 1 0 1 0 0 0 0 0 1 0 0 1 1 1 1 0 0\n",
            " 1 1 1 1 1 1 0 0 1 1 0 0 0 0 1 0 1 1 0 1 1 1 0 1 1 1 1 0 0 1 1 0 0 1 1 1 0\n",
            " 1 1 1 0 0 1 1 1 1 1 1 1 0 0 1]\n"
          ],
          "name": "stdout"
        },
        {
          "output_type": "display_data",
          "data": {
            "image/png": "[encoded data removed]",
            "text/plain": [
              "<Figure size 432x288 with 1 Axes>"
            ]
          },
          "metadata": {
            "tags": [],
            "needs_background": "light"
          }
        }
      ]
    },
    {
      "cell_type": "code",
      "metadata": {
        "id": "sfZHAbHhf9Ie"
      },
      "source": [
        ""
      ],
      "execution_count": null,
      "outputs": []
    }
  ]
}